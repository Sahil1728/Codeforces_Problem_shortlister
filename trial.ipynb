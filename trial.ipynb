{
 "cells": [
  {
   "attachments": {},
   "cell_type": "markdown",
   "metadata": {},
   "source": [
    "# Codeforces API project #"
   ]
  },
  {
   "cell_type": "code",
   "execution_count": 1,
   "metadata": {},
   "outputs": [],
   "source": [
    "# importing the required libraries\n",
    "import requests\n",
    "import time"
   ]
  },
  {
   "cell_type": "code",
   "execution_count": 2,
   "metadata": {},
   "outputs": [
    {
     "name": "stdout",
     "output_type": "stream",
     "text": [
      "1676540541\n"
     ]
    }
   ],
   "source": [
    "# apiKey\n",
    "api_key = \"8f1bc35aed5f48fdedd706953d75d092fdf58807\"\n",
    "# api secret\n",
    "api_secret = \"a4f96e082d5e21c9c432502a813d4ecf9304d840\"\n",
    "# crt time upto milli seconds\n",
    "crt_time = int(time.time())\n",
    "print(crt_time)"
   ]
  },
  {
   "attachments": {},
   "cell_type": "markdown",
   "metadata": {},
   "source": [
    "### Methods  that we need ###\n",
    "<ul>\n",
    "    <li>\n",
    "        user.status     =>Returns submissions of specified user.\n",
    "        <ol>\n",
    "            <li>handle  =>Codeforces user handle.</li>\n",
    "            <li>from    =>1-based index of the first submission to return.</li>\n",
    "            <li>count   =>Number of returned submissions.</li>\n",
    "            <li>return value    =>Returns a list of Submission objects, sorted in decreasing order of submission id.</li>\n",
    "        </ol>\n",
    "    </li>\n",
    "    <li>\n",
    "        problemset.problems     =>Returns all problems from problemset. Problems can be filtered by tags.\n",
    "        <ol>\n",
    "            <li>tags            =>Codeforces user handle.</li>\n",
    "            <li>problemsetName  =>1-based index of the first submission to return.</li>\n",
    "            <li>return value    =>Returns two lists. List of Problem objects and list of ProblemStatistics objects.</li>\n",
    "        </ol>\n",
    "    </li>\n",
    "</ul>"
   ]
  },
  {
   "cell_type": "code",
   "execution_count": 3,
   "metadata": {},
   "outputs": [
    {
     "name": "stdout",
     "output_type": "stream",
     "text": [
      "Enter the codeforces username of the user, or to exit enter -1\n",
      "Enter the codeforces username of the user, or to exit enter -1\n",
      "Enter the codeforces username of the user, or to exit enter -1\n"
     ]
    }
   ],
   "source": [
    "# taking the list of usernames as input from the user\n",
    "n = 1\n",
    "usernames = []\n",
    "while n!=-1:\n",
    "    print(\"Enter the codeforces username of the user, or to exit enter -1\")\n",
    "    username = input()\n",
    "    if username == \"-1\":\n",
    "        break\n",
    "    usernames.append(username)\n"
   ]
  },
  {
   "cell_type": "code",
   "execution_count": 4,
   "metadata": {},
   "outputs": [
    {
     "name": "stdout",
     "output_type": "stream",
     "text": [
      "The usernames entered are: \n",
      "collatz\n",
      "sid92\n"
     ]
    }
   ],
   "source": [
    "# checking if the usernames were entered correctly\n",
    "print(\"The usernames entered are: \")\n",
    "for i in usernames:\n",
    "    print(i)"
   ]
  },
  {
   "attachments": {},
   "cell_type": "markdown",
   "metadata": {},
   "source": [
    "### Asking the user the problem rating range and the topics ###"
   ]
  },
  {
   "cell_type": "code",
   "execution_count": 5,
   "metadata": {},
   "outputs": [
    {
     "name": "stdout",
     "output_type": "stream",
     "text": [
      "Enter the lower limit of the rating of the problems\n",
      "Enter the upper limit of the rating of the problems\n",
      "The lower limit of the rating of the problems is:  800\n",
      "The upper limit of the rating of the problems is:  1200\n"
     ]
    }
   ],
   "source": [
    "# asking user to enter lower and upper limit of the ratings of the problems\n",
    "print(\"Enter the lower limit of the rating of the problems\")\n",
    "# if the lower limit is less than 80ans, then it is set to 800\n",
    "# as there are no problems with rating less than 800\n",
    "lower_limit = max(int(input()),800)\n",
    "print(\"Enter the upper limit of the rating of the problems\")\n",
    "# if the upper limit is greater than 350ans, then it is set to 3500\n",
    "# as there are no problems with rating greater than 3500\n",
    "# if the upper limit is less than the lower limit, then it is set to the lower limit\n",
    "upper_limit = min(max(int(input()),lower_limit),3500)\n",
    "print(\"The lower limit of the rating of the problems is: \",lower_limit)\n",
    "print(\"The upper limit of the rating of the problems is: \",upper_limit)"
   ]
  },
  {
   "attachments": {},
   "cell_type": "markdown",
   "metadata": {},
   "source": [
    "#### List of all the codeforces problem tags ####"
   ]
  },
  {
   "cell_type": "code",
   "execution_count": 6,
   "metadata": {},
   "outputs": [
    {
     "name": "stdout",
     "output_type": "stream",
     "text": [
      "if you are ready to solve any type of problem, enter 1\n",
      "Enter the number of problems you want to solve\n"
     ]
    }
   ],
   "source": [
    "print(\"if you are ready to solve any type of problem, enter 1\")\n",
    "ans=0\n",
    "if(int(input())==1):\n",
    "    ans=1\n",
    "tags={\n",
    "        \"2-sat\":ans,\n",
    "        \"binary search\":ans,\n",
    "        \"bitmasks\":ans,\n",
    "        \"brute force\":ans,\n",
    "        \"chinese remainder theorem\":ans,\n",
    "        \"combinatorics\":ans,\n",
    "        \"constructive algorithms\":ans,\n",
    "        \"data structures\":ans,\n",
    "        \"dfs and similar\":ans,\n",
    "        \"divide and conquer\":ans,\n",
    "        \"dp\":ans,\n",
    "        \"dsu\":ans,\n",
    "        \"expression parsing\":ans,\n",
    "        \"fft\":ans,\n",
    "        \"flows\":ans,\n",
    "        \"games\":ans,\n",
    "        \"geometry\":ans,\n",
    "        \"graph matchings\":ans,\n",
    "        \"graphs\":ans,\n",
    "        \"greedy\":ans,\n",
    "        \"hashing\":ans,\n",
    "        \"implementation\":ans,\n",
    "        \"interactive\":ans,\n",
    "        \"math\":ans,\n",
    "        \"matrices\":ans,\n",
    "        \"meet-in-the-middle\":ans,\n",
    "        \"number theory\":ans,\n",
    "        \"probabilities\":ans,\n",
    "        \"schedules\":ans,\n",
    "        \"shortest paths\":ans,\n",
    "        \"sortings\":ans,\n",
    "        \"string suffix structures\":ans,\n",
    "        \"strings\":ans,\n",
    "        \"ternary search\":ans,\n",
    "        \"trees\":ans,\n",
    "        \"two pointers\":ans\n",
    "    }\n",
    "print(\"Enter the number of problems you want to solve\")"
   ]
  },
  {
   "attachments": {},
   "cell_type": "markdown",
   "metadata": {},
   "source": [
    "### Taking tags and no of problems as user input ###"
   ]
  },
  {
   "cell_type": "code",
   "execution_count": 7,
   "metadata": {},
   "outputs": [
    {
     "name": "stdout",
     "output_type": "stream",
     "text": [
      "These are the tags you have selected: \n",
      "2-sat\n",
      "binary search\n",
      "bitmasks\n",
      "brute force\n",
      "chinese remainder theorem\n",
      "combinatorics\n",
      "constructive algorithms\n",
      "data structures\n",
      "dfs and similar\n",
      "divide and conquer\n",
      "dp\n",
      "dsu\n",
      "expression parsing\n",
      "fft\n",
      "flows\n",
      "games\n",
      "geometry\n",
      "graph matchings\n",
      "graphs\n",
      "greedy\n",
      "hashing\n",
      "implementation\n",
      "interactive\n",
      "math\n",
      "matrices\n",
      "meet-in-the-middle\n",
      "number theory\n",
      "probabilities\n",
      "schedules\n",
      "shortest paths\n",
      "sortings\n",
      "string suffix structures\n",
      "strings\n",
      "ternary search\n",
      "trees\n",
      "two pointers\n"
     ]
    }
   ],
   "source": [
    "toSolve = []\n",
    "if(ans!=1):\n",
    "    for i in tags:\n",
    "        print(\"Would you like to solve the problem of the follwing tag? Enter 1 for yes and 0 for no\")\n",
    "        print(i)\n",
    "        x=int(input())\n",
    "        if(x==1):\n",
    "            toSolve.append(i)\n",
    "else:\n",
    "    for i in tags:\n",
    "        toSolve.append(i)\n",
    "print(\"These are the tags you have selected: \")\n",
    "for i in toSolve:\n",
    "    print(i)"
   ]
  },
  {
   "cell_type": "code",
   "execution_count": 11,
   "metadata": {},
   "outputs": [
    {
     "name": "stdout",
     "output_type": "stream",
     "text": [
      "collatz\n",
      "sid92\n",
      "The list of the problems that have been solved by the participants so that we can avoid those problems are: \n",
      "GamingForces\n",
      "Cut Ribbon\n",
      "Anton and Danik\n",
      "Cirno's Perfect Bitmasks Classroom\n",
      "Borze\n",
      "Bear and Big Brother\n",
      "Queue at the School\n",
      "DMCA\n",
      "Kefa and First Steps\n",
      "Joey Takes Money\n",
      "Watermelon\n",
      "Expression\n",
      "Soldier and Bananas\n",
      "Sereja and Dima\n",
      "Colored Balls: Revisited\n",
      "Ilya and Bank Account\n",
      "Pashmak and Garden\n",
      "Vanya and Lanterns\n",
      "Letters\n",
      "Interesting drink\n",
      "Elephant\n",
      "Lights Out\n",
      "Matrix Rotation\n",
      "Even Odds\n",
      "Football\n",
      "Games\n",
      "Magnets\n",
      "T-primes\n",
      "Who Tested?\n",
      "Twins\n",
      "Print a Pedestal (Codeforces logo?)\n",
      "Presents\n",
      "In Search of an Easy Problem\n",
      "Petya and Strings\n",
      "Kill Demodogs\n",
      "Chip Game\n",
      "George and Accommodation\n",
      "Bit++\n",
      "cAPS lOCK\n",
      "Everybody Likes Good Arrays!\n",
      "Gravity Flip\n",
      "Boredom\n",
      "Mike's Sequence\n",
      "Game With Sticks\n",
      "Odd Subarrays\n",
      "Flip Flop Sum\n",
      "Insomnia cure\n",
      "Vanya and Fence\n",
      "Helpful Maths\n",
      "GCD Partition\n",
      "Everything Everywhere All But One\n",
      "Dictionary\n",
      "Lucky Division\n",
      "Non-alternating Deck (easy version)\n",
      "I Wanna Be the Guy\n",
      "Word\n",
      "Negatives and Positives\n",
      "K-divisible Sum\n",
      "Codeforces Checking\n",
      "Anton and Letters\n",
      "Young Physicist\n",
      "Beat The Odds\n",
      "Panoramix's Prediction\n",
      "Array Decrements\n",
      "Cross-Language Program\n",
      "Sushi for Two\n",
      "Beautiful Year\n",
      "Following Directions\n",
      "Madoka and Math Dad\n",
      "Way Too Long Words\n",
      "Team\n",
      "Calculating Function\n",
      "BerSU Ball\n",
      "One and Two\n",
      "Hayato and School\n",
      "Stones on the Table\n",
      "Distinct Split\n",
      "Fedor and New Game\n",
      "Yet Another Promotion\n",
      "Teleporters (Easy Version)\n",
      "Free Cash\n",
      "Different Differences\n",
      "Taxi\n",
      "Two Elevators\n",
      "The Ultimate Square\n",
      "Chat room\n",
      "Restoring the Duration of Tasks\n",
      "Xenia and Ringroad\n",
      "Translation\n",
      "Wrong Subtraction\n",
      "Medium Number\n",
      "Fedya and Array\n",
      "Dubstep\n",
      "Ultra-Fast Mathematician\n",
      "Boy or Girl\n",
      "Hossam and Combinatorics\n",
      "Yes-Yes?\n",
      "Word Capitalization\n",
      "Drinks\n",
      "Registration System\n",
      "A+B?\n",
      "String Task\n",
      "Advantage\n",
      "Kayaking\n",
      "Atilla's Favorite Problem\n",
      "Domino piling\n",
      "Next Round\n",
      "Password\n",
      "Nearly Lucky Number\n",
      "Prepend and Append\n",
      "Number Transformation\n",
      "Perfect Permutation\n",
      "Minimum LCM\n",
      "Arrival of the General\n",
      "Pōja Verdon\n",
      "Cheap Travel\n",
      "IQ test\n",
      "Theatre Square\n",
      "Beautiful Matrix\n",
      "Emordnilap\n",
      "Hulk\n",
      "Puzzles\n",
      "Decode String\n",
      "Is your horseshoe on the other hoof?\n",
      "Tram\n",
      "HQ9+\n"
     ]
    }
   ],
   "source": [
    "# Getting the list of the problems that have been solved by the participants so that we can avoid those problems\n",
    "solved = set()\n",
    "for i in enumerate(usernames):\n",
    "    j=i[1]\n",
    "    print(j)\n",
    "    url = \"https://codeforces.com/api/user.status?handle=\"+j+\"&from=1&count=10000\"\n",
    "    response = requests.get(url)\n",
    "    data = response.json()\n",
    "    if(\"status\"==\"FAILED\"):\n",
    "        print(\"The username entered is incorrect\")\n",
    "    else:\n",
    "        for j in data['result']:\n",
    "                if j['verdict'] != \"OK\":\n",
    "                    continue\n",
    "                problemName = j['problem']['name']\n",
    "                solved.add(problemName)\n",
    "\n",
    "# printing the list of the problems that have been solved by the participants so that we can avoid those problems\n",
    "print(\"The list of the problems that have been solved by the participants so that we can avoid those problems are: \")\n",
    "for i in solved:\n",
    "    print(i)"
   ]
  },
  {
   "cell_type": "code",
   "execution_count": null,
   "metadata": {},
   "outputs": [],
   "source": [
    "# asking user for the number of problems they want to solve\n",
    "no_of_problems = int(input(\"Enter the number of problems you want to solve: \"))"
   ]
  },
  {
   "attachments": {},
   "cell_type": "markdown",
   "metadata": {},
   "source": [
    "### Fetching problems of the "
   ]
  },
  {
   "cell_type": "code",
   "execution_count": null,
   "metadata": {},
   "outputs": [],
   "source": [
    "to_solve = {}\n"
   ]
  },
  {
   "cell_type": "code",
   "execution_count": null,
   "metadata": {},
   "outputs": [],
   "source": []
  },
  {
   "cell_type": "code",
   "execution_count": null,
   "metadata": {},
   "outputs": [],
   "source": []
  },
  {
   "cell_type": "code",
   "execution_count": null,
   "metadata": {},
   "outputs": [],
   "source": []
  },
  {
   "cell_type": "code",
   "execution_count": null,
   "metadata": {},
   "outputs": [],
   "source": []
  },
  {
   "cell_type": "code",
   "execution_count": null,
   "metadata": {},
   "outputs": [],
   "source": []
  },
  {
   "cell_type": "code",
   "execution_count": 9,
   "metadata": {},
   "outputs": [],
   "source": [
    "result = [\n",
    "    {'id': 193733493, 'contestId': 275, 'creationTimeSeconds': 1676475743, 'relativeTimeSeconds': 2147483647, \n",
    "        'problem': {\n",
    "            'contestId': 275, 'index': 'A', 'name': 'Lights Out', 'type': 'PROGRAMMING', 'points': 500.0, 'rating': 900, 'tags': ['implementation']}, \n",
    "            'author': {\n",
    "                'contestId': 275, 'members': [{'handle': 'collatz'}], \n",
    "                'participantType': 'PRACTICE', 'ghost': False, 'startTimeSeconds': 1361374200\n",
    "            }, \n",
    "        'programmingLanguage': 'GNU C++17', 'verdict': 'OK', 'testset': 'TESTS', 'passedTestCount': 33, 'timeConsumedMillis': 15, 'memoryConsumedBytes': 0\n",
    "    }, \n",
    "    {'id': 193733442, 'contestId': 275, 'creationTimeSeconds': 1676475718, 'relativeTimeSeconds': 2147483647, \n",
    "        'problem': {\n",
    "            'contestId': 275, 'index': 'A', 'name': 'Lights Out', 'type': 'PROGRAMMING', 'points': 500.0, 'rating': 900, 'tags': ['implementation']},\n",
    "            'author': {\n",
    "                'contestId': 275, 'members': [{'handle': 'collatz'}],\n",
    "                'participantType': 'PRACTICE', 'ghost': False, 'startTimeSeconds': 1361374200\n",
    "            },\n",
    "        'programmingLanguage': 'GNU C++17', 'verdict': 'WRONG_ANSWER', 'testset': 'TESTS', 'passedTestCount': 0, 'timeConsumedMillis': 0, 'memoryConsumedBytes': 0\n",
    "    }, \n",
    "    {'id': 193487978, 'contestId': 1791, 'creationTimeSeconds': 1676301387, 'relativeTimeSeconds': 2147483647, \n",
    "        'problem': {\n",
    "            'contestId': 1791, 'index': 'E', 'name': 'Negatives and Positives', 'type': 'PROGRAMMING', 'rating': 1100, 'tags': ['dp', 'greedy', 'sortings']},\n",
    "            'author': {\n",
    "                'contestId': 1791, 'members': [{'handle': 'collatz'}], \n",
    "                'participantType': 'PRACTICE', 'ghost': False, 'startTimeSeconds': 1675434900\n",
    "            }, \n",
    "        'programmingLanguage': 'GNU C++17', 'verdict': 'OK', 'testset': 'TESTS', 'passedTestCount': 22, 'timeConsumedMillis': 374, 'memoryConsumedBytes': 3276800\n",
    "    }, \n",
    "    {'id': 193476787, 'contestId': 1791, 'creationTimeSeconds': 1676296084, 'relativeTimeSeconds': 2147483647, \n",
    "        'problem': {\n",
    "            'contestId': 1791, 'index': 'E', 'name': 'Negatives and Positives', 'type': 'PROGRAMMING', 'rating': 1100, 'tags': ['dp', 'greedy', 'sortings']},\n",
    "            'author': {\n",
    "                'contestId': 1791, 'members': [{'handle': 'collatz'}], \n",
    "                'participantType': 'PRACTICE', 'ghost': False, 'startTimeSeconds': 1675434900\n",
    "            }, \n",
    "        'programmingLanguage': 'GNU C++17', 'verdict': 'WRONG_ANSWER', 'testset': 'TESTS', 'passedTestCount': 1, 'timeConsumedMillis': 0, 'memoryConsumedBytes': 102400\n",
    "    }, \n",
    "    {'id': 193311060, 'contestId': 1793, 'creationTimeSeconds': 1676194796, 'relativeTimeSeconds': 3896, \n",
    "        'problem': {'contestId': 1793, 'index': 'B', 'name': 'Fedya and Array', 'type': 'PROGRAMMING', 'points': 1000.0, 'tags': ['constructive algorithms', 'math']}, \n",
    "            'author': {\n",
    "                'contestId': 1793, 'members': [{'handle': 'collatz'}], \n",
    "                'participantType': 'CONTESTANT', 'ghost': False, 'room': 553, 'startTimeSeconds': 1676190900\n",
    "            }, \n",
    "        'programmingLanguage': 'GNU C++17', 'verdict': 'WRONG_ANSWER', 'testset': 'PRETESTS', 'passedTestCount': 1, 'timeConsumedMillis': 15, 'memoryConsumedBytes': 102400\n",
    "    }\n",
    "]"
   ]
  },
  {
   "cell_type": "code",
   "execution_count": 11,
   "metadata": {},
   "outputs": [
    {
     "name": "stdout",
     "output_type": "stream",
     "text": [
      "NAME:  Lights Out\n",
      "TAGS:  ['implementation']\n",
      "NAME:  Lights Out\n",
      "TAGS:  ['implementation']\n",
      "NAME:  Negatives and Positives\n",
      "TAGS:  ['dp', 'greedy', 'sortings']\n",
      "NAME:  Negatives and Positives\n",
      "TAGS:  ['dp', 'greedy', 'sortings']\n",
      "NAME:  Fedya and Array\n",
      "TAGS:  ['constructive algorithms', 'math']\n"
     ]
    }
   ],
   "source": [
    "for i in result:\n",
    "    print(\"NAME: \", i['problem']['name'])\n",
    "    print(\"TAGS: \", i['problem']['tags'])"
   ]
  }
 ],
 "metadata": {
  "kernelspec": {
   "display_name": "Python 3",
   "language": "python",
   "name": "python3"
  },
  "language_info": {
   "codemirror_mode": {
    "name": "ipython",
    "version": 3
   },
   "file_extension": ".py",
   "mimetype": "text/x-python",
   "name": "python",
   "nbconvert_exporter": "python",
   "pygments_lexer": "ipython3",
   "version": "3.11.1"
  },
  "orig_nbformat": 4,
  "vscode": {
   "interpreter": {
    "hash": "3d7c2ac40bad9e8f6dd0f7cf482f4b2f33caf3ab8d5075884b561424700e8fca"
   }
  }
 },
 "nbformat": 4,
 "nbformat_minor": 2
}
